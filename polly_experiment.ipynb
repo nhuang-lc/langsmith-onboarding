{
 "cells": [
  {
   "cell_type": "code",
   "execution_count": null,
   "metadata": {},
   "outputs": [],
   "source": [
    "from dotenv import load_dotenv\n",
    "load_dotenv(dotenv_path=\".env\", override=True)"
   ]
  },
  {
   "cell_type": "code",
   "execution_count": 44,
   "metadata": {},
   "outputs": [],
   "source": [
    "from langchain_openai import ChatOpenAI\n",
    "\n",
    "llm = ChatOpenAI(model_name=\"gpt-4o-mini\", temperature=0)"
   ]
  },
  {
   "cell_type": "code",
   "execution_count": 55,
   "metadata": {},
   "outputs": [],
   "source": [
    "from langsmith import traceable\n",
    "from langchain_core.prompts import ChatPromptTemplate\n",
    "\n",
    "@traceable(run_type=\"retriever\")\n",
    "def fake_db_retrieval_step(question):\n",
    "    with open('polly_facts.txt', 'r') as file:\n",
    "        polly_facts = file.read()\n",
    "    return {\"question\": question, \"facts\": polly_facts}\n",
    "\n",
    "prompt = ChatPromptTemplate.from_messages([\n",
    "    (\"system\", \"You are a parrot named Polly! Here are some facts about yourself: {facts}\\n Respond to questions about yourself based on those facts, and always repeat the user's question back before you respond.\"),\n",
    "    (\"user\", \"{question}\")\n",
    "])\n",
    "\n",
    "chain = fake_db_retrieval_step | prompt | llm"
   ]
  },
  {
   "cell_type": "code",
   "execution_count": null,
   "metadata": {},
   "outputs": [],
   "source": [
    "question = \"Do you like animals?\"\n",
    "chain.invoke(question)"
   ]
  },
  {
   "cell_type": "markdown",
   "metadata": {},
   "source": [
    "### Evaluation"
   ]
  },
  {
   "cell_type": "code",
   "execution_count": 48,
   "metadata": {},
   "outputs": [],
   "source": [
    "from langsmith.schemas import Example, Run\n",
    "\n",
    "def did_polly_respond(root_run: Run, example: Example) -> dict:\n",
    "    print(root_run.outputs[\"output\"])\n",
    "    score = len(root_run.outputs[\"output\"].pretty_repr()) > 0\n",
    "    return {\"key\": \"did_respond\", \"score\": int(score)}"
   ]
  },
  {
   "cell_type": "code",
   "execution_count": null,
   "metadata": {},
   "outputs": [],
   "source": [
    "from langsmith import evaluate\n",
    "\n",
    "evaluate(\n",
    "    chain.invoke,\n",
    "    data=\"polly-ground-truth-qa\",\n",
    "    evaluators=[did_polly_respond],\n",
    "    experiment_prefix=\"gpt-4o-mini\"\n",
    ")"
   ]
  },
  {
   "cell_type": "code",
   "execution_count": null,
   "metadata": {},
   "outputs": [],
   "source": []
  }
 ],
 "metadata": {
  "kernelspec": {
   "display_name": "polly_env",
   "language": "python",
   "name": "python3"
  },
  "language_info": {
   "codemirror_mode": {
    "name": "ipython",
    "version": 3
   },
   "file_extension": ".py",
   "mimetype": "text/x-python",
   "name": "python",
   "nbconvert_exporter": "python",
   "pygments_lexer": "ipython3",
   "version": "3.12.5"
  }
 },
 "nbformat": 4,
 "nbformat_minor": 2
}
